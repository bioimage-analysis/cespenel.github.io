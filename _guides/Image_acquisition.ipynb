{
 "cells": [
  {
   "cell_type": "markdown",
   "metadata": {},
   "source": [
    "<FORM><INPUT Type=\"button\" VALUE=\"Back\" onClick=\"history.go(-1);return true;\"></FORM>"
   ]
  },
  {
   "cell_type": "markdown",
   "metadata": {
    "collapsed": true
   },
   "source": [
    "# Image acquisition - some basic concepts:\n",
    "\n",
    "Here are few basic concepts you should know before starting your acquisition:"
   ]
  },
  {
   "cell_type": "markdown",
   "metadata": {},
   "source": [
    "## Objective lens\n",
    "\n",
    "The objective lens is one of the most important piece of equipment of your microscope, it will determine the size of your **field of view**, your **resolution**, your **sampling** and depending of the quality of your objective, it will help with some **optical correction**."
   ]
  },
  {
   "cell_type": "markdown",
   "metadata": {},
   "source": [
    "Here I highlighted the key parameters that you can see on the markings on the barrel of an objective lens:\n",
    "\n",
    "<img src=\"/Users/Espenel/Desktop/Cedric_Espenel_website/img/guides/obj.png\" />\n",
    "\n",
    "### Numerical aperture:\n",
    "\n",
    "It is the angular aperture of your objective NA given as:\n",
    "\n",
    "${\\large NA = n \\sin\\theta} $\n",
    "\n",
    "Where $\\theta$ is the half angle of the cone of specimen light accepted by the objective lens and *n* is the refractive index of the medium between the lens and the specimen.\n",
    "\n",
    "The **higher the NA** the more diffracted rays are collected from the specimen and then the **higher the spatial resolution** you could expect.\n",
    "\n",
    "### Magnification:\n",
    "\n",
    "An higher magnification will not give you a higher resolution, however, the magnification is critical for **sampling** (see bellow) while working with a camera. \n",
    "Moreover, the ratio of numerical aperture to magnification determines the light-gathering power of a lens and hence the **image brightness** B:\n",
    "\n",
    "${\\large B \\propto \\frac{NA^4}{M^2}} $ (epi-illumination mode)\n",
    "\n",
    "Where M is the magnification and NA the numerical aperture.\n",
    "\n",
    "Finally you should keep in mind that an higher magnification will give you a smaller **field of view**.\n",
    "\n",
    "### Immersion medium:\n",
    "\n",
    "As we have seen before, in the equation $NA = n \\sin\\theta$ the NA is directly proportional to *n* then, the higher the refractive index of the immersion medium, the higher the resolution you could have. However, you should also take into account the *n* of your specimen and try to match it as much as possible with the *n* of the objective lens to avoid too much diffraction of the light. For example, if you use ProLong® Gold Antifade Mountant which as a refractive index of 1.47, an oil ($n=1.52$) objective will be great or, if you have the option, a glycerol ($n=1.47$) objective would be perfect.\n",
    "\n",
    "### Optical correction:\n",
    "\n",
    "This is more or less an indication of the quality (and the price) of your objective. It is indicative of the amount of colors that are corrected for spherical and chromatic aberration as well as if the objective provide flat-field correction, here is table that summarize the different optical correction available: \n",
    "\n",
    "|Objective Type |\tSpherical Aberration |\tChromatic Aberration |\tField Curvature|\n",
    "| ----------    | ----------------       | -------------         | -------------   |  \n",
    "|Achromat |\t1 Color |\t2 Colors |\tNo|\n",
    "|Plan Achromat |\t1 Color |\t2 Colors |\tYes|\n",
    "|Fluorite |\t2-3 Colors |\t2-3 Colors |\tNo|\n",
    "|Plan Fluorite |\t3-4 Colors |\t2-4 Colors |\tYes|\n",
    "|Plan Apochromat |\t3-4 Colors |\t4-5 Colors |\tYes |\n",
    "\n",
    "\n",
    "> #### Even the best objective will not give you a good image if it is dirty, YOU SHOULD ALWAYS START YOUR EXPERIMENT BY CLEANING YOUR OBJECTIVE as well as the support of your specimen."
   ]
  },
  {
   "cell_type": "markdown",
   "metadata": {},
   "source": [
    "> ## Spatial resolution and sampling\n",
    "### Spatial resolution\n",
    "The *spatial resolution* of the microscope is defined by the smallest resolvable distance between two points in an image.\n",
    "####  *XY* resolution\n",
    "$ {\\large d_{x,y} =  \\frac{0.61\\lambda}{NA}}$\n",
    "Which define the *Rayleigh criterion* where *d* is the minimum resolved distance (in other words, your *XY* resolution), and NA is the numerical aperture of the objective lens. It's also the radius of the central diffraction disk also known at the ***Airy disk***. \n",
    "#### *Z* resolution\n",
    "$ {\\large d_{z} =  \\frac{2\\lambda n}{NA^2}}$\n",
    "Where n is refractive index of the immersion medium.\n",
    "### Sampling\n",
    "According to the **Nyquist sampling theorem**, to preserve the spatial resolution, the radius of the *Airy disk* ($d$) should be covered by a minimum of 2 adjacent pixels.<br>\n",
    "Concretely, what does that mean? Let's assume that you are working with an objective with $M = 60X$, $NA = 1.4$ and with a $\\lambda = 500nm$ the *resolvable power* of you objective is:<br> \n",
    "$d_{x,y}= \\frac{0.61x500}{1.4}\\approx 218nm$ <br>\n",
    "If you are working with a sCMOS camera, which typically have a $ 6.5 \\mu m$ physical pixel size, after magnification, your pixel size is:<br>\n",
    "$pixel_{xy}= \\frac{6.5}{60}\\approx 108nm$, which will then give you a good sampling.\n"
   ]
  },
  {
   "cell_type": "markdown",
   "metadata": {},
   "source": [
    "## Dynamic Range\n",
    "\n",
    "The number of resolvable steps of light intensity, gray-level steps ranging from black to white, is called the dynamic range.\n",
    "\n",
    "Ideally, especially if you plan in doing any image quantitation/measurements, **the larger the number of gray levels the more accurate your measurement would be** and also the easier the extraction of information will be.\n",
    "\n",
    "> Most of the computer monitors have only 8 bit processing, so you won't be able to see the difference between an 8 bit or a 16 bit image on your screen.\n",
    "\n",
    "### Bit depth\n",
    "\n",
    "After digitization (by an analogue to digital converter(ADC)) in the computer, the photon signal is displayed as shades of gray ranging from black (no signal) to white (saturating signal) on the monitor. The ADC are described in terms of their bit depth. Since a computer bit can only be in one of two possible stated (0 or 1), the bit depth is described as $2^X$ number of steps. Therefore, an 8 bit processor can encode $2^8$ steps or 256 gray levels and a 16 bit processor can encode $2^16$ steps or 65536 gray levels.\n",
    "\n",
    "> The higher the bit depth, the larger your image would be, an \"8 bit pixel\", will take 1 byte (1 byte is 8 binary digits) on the disk while a \"16 bit pixel\" will take 2 bytes.\n",
    "\n",
    "### Laser power\n",
    "\n",
    "Here the advice is relatively simple: **\"Use the lowest laser power to give an acceptable image\"**. This is true especially if you are working with live cells, too much laser power will be phototoxic to your cells and will alter their behavior. Moreover, using low laser power will prevent photobleaching of your fluorophores.<br>\n",
    "**What is an acceptable image?** It's an image you can use for quantification. One advice would be to test your images on your analysis pipeline to make sure the signal to noise is good enough to minimize as much as possible any post-processing. \n",
    "\n",
    "### Gain\n",
    "\n",
    "Gain is a relative measure of the amplification one applies to the photon detection system. On a PMT (confocal) the signal voltage is amplified by multiplication by a constant factor, while on a camera, increasing the electronic gain reduces the number of photoelectrons that are assigned per gray level. \n",
    "Increasing the gain will then result in brighter images, however, **Gain does not make your camera more sensitive**. It boosts the noise as well as the signal and at some point as the gain is increased (and the overall image gets brighter), the signal/noise ratio (S/N) starts to decrease. The overall aim is to get the highest S/N, NOT the brightest image.\n",
    "\n",
    "### Offset\n",
    "\n",
    "Offset is an electron adjustment that shift positively or negatively the signal. The offset has to be adjusted to prevent the ADC to hit 0.\n",
    "\n",
    "> Caution: by decreasing the offset too far, very faint data will actually be lost - it is critical that this is not allowed to happen. New users are often tempted to decrease the offset value to try to eliminate background or non-specific signal. This should **NEVER** be done."
   ]
  },
  {
   "cell_type": "markdown",
   "metadata": {},
   "source": [
    "<FORM><INPUT Type=\"button\" VALUE=\"Back\" onClick=\"history.go(-1);return true;\"></FORM>"
   ]
  }
 ],
 "metadata": {
  "anaconda-cloud": {},
  "kernelspec": {
   "display_name": "Python [cenv]",
   "language": "python",
   "name": "Python [cenv]"
  },
  "language_info": {
   "codemirror_mode": {
    "name": "ipython",
    "version": 2
   },
   "file_extension": ".py",
   "mimetype": "text/x-python",
   "name": "python",
   "nbconvert_exporter": "python",
   "pygments_lexer": "ipython2",
   "version": "2.7.11"
  }
 },
 "nbformat": 4,
 "nbformat_minor": 0
}
