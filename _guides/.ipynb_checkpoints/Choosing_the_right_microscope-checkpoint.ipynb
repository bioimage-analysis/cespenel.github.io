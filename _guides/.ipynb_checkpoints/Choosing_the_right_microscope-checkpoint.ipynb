{
 "cells": [
  {
   "cell_type": "markdown",
   "metadata": {
    "collapsed": true
   },
   "source": [
    "<FORM><INPUT Type=\"button\" VALUE=\"Back\" onClick=\"history.go(-1);return true;\"></FORM>"
   ]
  },
  {
   "cell_type": "markdown",
   "metadata": {},
   "source": [
    "# Choosing the right fluorescent microscope for your application"
   ]
  },
  {
   "cell_type": "markdown",
   "metadata": {},
   "source": [
    "While designing your experiment for fluorescence microscopy there is few questions you should ask yourself, here are some of them:\n",
    "\n",
    "-\tHow deep in your sample do you need to image? How thick is your sample? \n",
    "-\tIs your sample live or fixed?  If you want to do live experiment, are the microscopes around you equipped with environmental control? \n",
    "-\tWhat are the excitations and emissions wavelengths of your fluorophore? Are the microscopes available able to image these wavelengths? \n",
    "-\tHow fast is the event you are trying to capture with the microscope?\n",
    "-\tHow small are the objects you are trying to see? What resolution do you need? \n"
   ]
  },
  {
   "cell_type": "markdown",
   "metadata": {},
   "source": [
    "Here is a general guideline for the different fluorescence microscopes that are commonly available in facilities:"
   ]
  },
  {
   "cell_type": "markdown",
   "metadata": {},
   "source": [
    "| Microscope | Sample Thickness | Living sample | Speed | Sensitivity |\n",
    "| ---------- | ---------------- | ------------- | ---   | ----------- |\n",
    "| [TIRF](https://www.microscopyu.com/techniques/fluorescence/total-internal-reflection-fluorescence-tirf-microscopy) |  ~100nm | +++ | FAST | ++++ |\n",
    "| Widefield | 1-10μm | +++ | FAST | ++++ |\n",
    "| [Widefield with deconvolution](https://micro.magnet.fsu.edu/primer/digitalimaging/deconvolution/deconvolutionhome.html) | 5-20μm | +++ | FAST | ++++ |\n",
    "| [Spinning disk confocal](http://zeiss-campus.magnet.fsu.edu/articles/spinningdisk/introduction.html)| 10-50μm | +++ | FAST | +++ |\n",
    "| [Laser scanning confocal](https://www.microscopyu.com/tutorials/laser-scanning-confocal-microscopy) | 10-100μm | + | SLOW | + |\n",
    "| [Two-photon](https://www.microscopyu.com/techniques/multi-photon/multiphoton-microscopy)| >100μm | ++ | SLOW | ++\n",
    "| Light sheet| >1mm | +++ | FAST | ++++"
   ]
  },
  {
   "cell_type": "markdown",
   "metadata": {},
   "source": [
    "Again, this is a general guideline and I though I should add some notes:\n",
    "\n",
    "### Sample thickness\n",
    "\n",
    "This has nothing to do with how deep you can image (except for the light sheet microscope), how deep you are able to image depend mainly on the [working distance](https://www.microscopyu.com/microscopy-basics/working-distance-and-parfocal-length) of your objective.\n",
    "The sample thickness given here is an indication on which technique you should use depending of the thickness of your sample. However, how deep you will be able to image with a specific technique will also be dependent on your signal to noise ratio. \n",
    "For example, you can often image up to few hundreds microns without the need of a 2-photon if you have a [\"cleared\"](http://www.leica-microsystems.com/science-lab/clarity/clarifying-tissue-clearing/) sample. Or, if you grow single layer of cells on top of a 100μm transparent gel, you could probably image them with a wide-field microscope. At the opposite, if you have a lot of background vs signal a spinning disk confocal will probably not work very well with a 50μm thick sample.\n",
    "In conclusion. if you have the option, you should try different technique to see which one is the appropriate for your sample.\n",
    "\n",
    "### Speed\n",
    "\n",
    "In this case, LSCM and 2-photon confocal are inherently slower because you image your sample point by point. For the other techniques the speed is dicteted by the camera frame rates. However, in the case you would like to acquire multi-dimenstional images, you should take into consideration the other parts of the microscope. For example, if you need to acquire multi-colors images, how fast can the microscope switch between the different colors? For a Z-stack, is there a Z-piezo? Can the software trigger the different part of the microscope? etc. \n",
    "\n",
    "### Sensitivity\n",
    "\n",
    "This part relate to 2 factors:\n",
    "1. From the photons emitted by your fluorophore, how many reached the detectors. In a widefield microscope, this is mainly dependent on the light-gathering power of your objective  $B \\propto \\frac{NA^4}{M^2}$ where M is the magnification and NA the numerical aperture. In a confocal microscope, you also have to take into account that a lot of the light is rejected by the pinhole. \n",
    "\n",
    "2. The quantum efficiency of your detector, or its ability to convert photons into photon-electrons. "
   ]
  },
  {
   "cell_type": "markdown",
   "metadata": {},
   "source": [
    "<FORM><INPUT Type=\"button\" VALUE=\"Back\" onClick=\"history.go(-1);return true;\"></FORM>"
   ]
  }
 ],
 "metadata": {
  "anaconda-cloud": {},
  "kernelspec": {
   "display_name": "Python [cenv]",
   "language": "python",
   "name": "Python [cenv]"
  },
  "language_info": {
   "codemirror_mode": {
    "name": "ipython",
    "version": 2
   },
   "file_extension": ".py",
   "mimetype": "text/x-python",
   "name": "python",
   "nbconvert_exporter": "python",
   "pygments_lexer": "ipython2",
   "version": "2.7.11"
  }
 },
 "nbformat": 4,
 "nbformat_minor": 0
}
